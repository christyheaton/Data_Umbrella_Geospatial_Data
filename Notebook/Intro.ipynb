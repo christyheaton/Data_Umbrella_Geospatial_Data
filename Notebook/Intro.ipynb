{
 "cells": [
  {
   "cell_type": "markdown",
   "metadata": {
    "slideshow": {
     "slide_type": "slide"
    }
   },
   "source": [
    "# Intro to Spatial Data and Projections/Coordinate Systems"
   ]
  },
  {
   "cell_type": "code",
   "execution_count": null,
   "metadata": {
    "slideshow": {
     "slide_type": "slide"
    }
   },
   "outputs": [],
   "source": [
    "import os\n",
    "import geopandas as gpd\n",
    "import contextily as cx\n",
    "import folium\n",
    "data_pth = \"../Data/\""
   ]
  },
  {
   "cell_type": "markdown",
   "metadata": {
    "slideshow": {
     "slide_type": "slide"
    }
   },
   "source": [
    "### Using Geopandas Datasets\n",
    "More info: https://geopandas.org/en/stable/docs/user_guide/mapping.html"
   ]
  },
  {
   "cell_type": "code",
   "execution_count": null,
   "metadata": {
    "slideshow": {
     "slide_type": "slide"
    }
   },
   "outputs": [],
   "source": [
    "# when geopandas is installed, some data gets installed as well, like country boundaries\n",
    "countries = gpd.read_file(gpd.datasets.get_path('naturalearth_lowres'))"
   ]
  },
  {
   "cell_type": "code",
   "execution_count": null,
   "metadata": {
    "scrolled": true,
    "slideshow": {
     "slide_type": "subslide"
    }
   },
   "outputs": [],
   "source": [
    "# this is spatial data (the Geometry column) but it also has non-spatial attributes, one record for each shape\n",
    "countries.head(3)"
   ]
  },
  {
   "cell_type": "code",
   "execution_count": null,
   "metadata": {
    "slideshow": {
     "slide_type": "subslide"
    }
   },
   "outputs": [],
   "source": [
    "# the crs is the coordinate reference system which includes coordinate system, projection, and other geospatial information\n",
    "# it is defined by an epsg code (more info at https://epsg.io/)\n",
    "\n",
    "# let's look at the crs to make sure it is defined\n",
    "countries.crs"
   ]
  },
  {
   "cell_type": "code",
   "execution_count": null,
   "metadata": {
    "slideshow": {
     "slide_type": "slide"
    }
   },
   "outputs": [],
   "source": [
    "# now we can plot this data as a static image\n",
    "countries.plot(figsize=(15,10))"
   ]
  },
  {
   "cell_type": "code",
   "execution_count": null,
   "metadata": {
    "scrolled": true,
    "slideshow": {
     "slide_type": "slide"
    }
   },
   "outputs": [],
   "source": [
    "# we can use the interactive explore method (folium behind the scenes) to get an interactive interface\n",
    "# Interactive mapping https://geopandas.org/en/stable/docs/user_guide/interactive_mapping.html\n",
    "\n",
    "countries.explore(tiles='CartoDB positron')"
   ]
  },
  {
   "cell_type": "code",
   "execution_count": null,
   "metadata": {
    "slideshow": {
     "slide_type": "slide"
    }
   },
   "outputs": [],
   "source": [
    "# geopandas also comes with city data, these are capital cities\n",
    "\n",
    "capitals = gpd.read_file(gpd.datasets.get_path('naturalearth_cities'))"
   ]
  },
  {
   "cell_type": "code",
   "execution_count": null,
   "metadata": {
    "slideshow": {
     "slide_type": "subslide"
    }
   },
   "outputs": [],
   "source": [
    "# this data also has spatial and non-spatial attributes, one row for each shape\n",
    "\n",
    "capitals.head(3)"
   ]
  },
  {
   "cell_type": "code",
   "execution_count": null,
   "metadata": {
    "slideshow": {
     "slide_type": "subslide"
    }
   },
   "outputs": [],
   "source": [
    "# let's double check the crs\n",
    "\n",
    "capitals.crs"
   ]
  },
  {
   "cell_type": "code",
   "execution_count": null,
   "metadata": {
    "slideshow": {
     "slide_type": "slide"
    }
   },
   "outputs": [],
   "source": [
    "# then explore the data\n",
    "\n",
    "capitals.explore(tiles='CartoDB positron')"
   ]
  },
  {
   "cell_type": "code",
   "execution_count": null,
   "metadata": {
    "slideshow": {
     "slide_type": "slide"
    }
   },
   "outputs": [],
   "source": [
    "# if we want to view the countires and cities together, its a good idea to verify that they are both in the same crs first\n",
    "\n",
    "capitals.crs == countries.crs"
   ]
  },
  {
   "cell_type": "code",
   "execution_count": null,
   "metadata": {
    "slideshow": {
     "slide_type": "slide"
    }
   },
   "outputs": [],
   "source": [
    "# to view both layers, set the base layer to m (map object), then pass the map object to any other layers\n",
    "\n",
    "m = countries.explore(tiles='CartoDB positron') # define the countries as a map object, m\n",
    "capitals.explore(m=m, # pass the map object\n",
    "                 color='purple') # set the color to something other than the blue default for better visibility"
   ]
  },
  {
   "cell_type": "code",
   "execution_count": null,
   "metadata": {
    "slideshow": {
     "slide_type": "slide"
    }
   },
   "outputs": [],
   "source": [
    "# choropleth map - a map in which areas are shaded according to an attribute of interest\n",
    "\n",
    "# let's color the countries by their population\n",
    "\n",
    "m = countries.explore(\n",
    "     tiles='CartoDB positron',\n",
    "     cmap='copper_r',\n",
    "     column='pop_est',  # make choropleth based on \"pop_est\" column\n",
    "     scheme='naturalbreaks',  # the natural breaks scheme - designed to determine the best arrangement of values into different classes\n",
    "     legend=True, # show legend\n",
    "     k=5, # use 5 bins\n",
    "     legend_kwds=dict(colorbar=False), # do not use colorbar, instead group the colors\n",
    "     name='Countries' # name of the layer in the layer control\n",
    ")\n",
    "\n",
    "# add the cities on top as a red circle\n",
    "capitals.explore(\n",
    "     m=m, # pass the map object\n",
    "     color='purple', # use red color on all points\n",
    "     marker_kwds=dict(radius=2, fill=True), # make marker radius 2px with fill\n",
    "     name='Cities' # name of the layer in the layer control\n",
    ")\n",
    "\n",
    "folium.LayerControl().add_to(m)  # use folium to add layer control\n",
    "\n",
    "m"
   ]
  },
  {
   "cell_type": "markdown",
   "metadata": {
    "slideshow": {
     "slide_type": "slide"
    }
   },
   "source": [
    "### Add Data From Another Source"
   ]
  },
  {
   "cell_type": "code",
   "execution_count": null,
   "metadata": {
    "slideshow": {
     "slide_type": "slide"
    }
   },
   "outputs": [],
   "source": [
    "# GeoPandas city data is the capital cities, so let's load in a larger cities dataset\n",
    "# https://www.naturalearthdata.com/downloads/10m-cultural-vectors/10m-populated-places/\n",
    "\n",
    "cities = gpd.read_file(os.path.join(data_pth, \"ne_10m_populated_places.shp\"))"
   ]
  },
  {
   "cell_type": "code",
   "execution_count": null,
   "metadata": {
    "slideshow": {
     "slide_type": "subslide"
    }
   },
   "outputs": [],
   "source": [
    "# let's look at the first few rows of the table\n",
    "\n",
    "cities.head(3)"
   ]
  },
  {
   "cell_type": "code",
   "execution_count": null,
   "metadata": {
    "slideshow": {
     "slide_type": "subslide"
    }
   },
   "outputs": [],
   "source": [
    "# let's keep only cities with a population > 20,000\n",
    "\n",
    "cities = cities[cities['RANK_MAX'] > 9]"
   ]
  },
  {
   "cell_type": "code",
   "execution_count": null,
   "metadata": {
    "slideshow": {
     "slide_type": "slide"
    }
   },
   "outputs": [],
   "source": [
    "# add the countries with the simple default styling\n",
    "m = countries.explore(\n",
    "     tiles='CartoDB positron',\n",
    "     name='Countries'\n",
    ")\n",
    "\n",
    "# then color the cities by population\n",
    "cities.explore(\n",
    "     m=m, # pass the map object\n",
    "     column='POP_MAX', # color by the POP_MAX column\n",
    "     cmap='copper_r', # color scheme\n",
    "     scheme='naturalbreaks', # use natural breaks binning scheme\n",
    "     k = 5, # use 5 bins\n",
    "     marker_kwds=dict(radius=2, fill=True), # make marker radius 2px with fill\n",
    "     legend_kwds=dict(colorbar=False),  # do not use colorbar, instead group the colors\n",
    "     tooltip=['NAME', 'POP_MAX'],# show the 'NAME' and 'POP_MAX' columns in the tooltip\n",
    "     name='Cities' # name of the layer in the layer control\n",
    ")\n",
    "\n",
    "folium.LayerControl().add_to(m)  # use folium to add layer control\n",
    "\n",
    "m # display the map"
   ]
  },
  {
   "cell_type": "markdown",
   "metadata": {
    "slideshow": {
     "slide_type": "slide"
    }
   },
   "source": [
    "### Projections"
   ]
  },
  {
   "cell_type": "markdown",
   "metadata": {
    "slideshow": {
     "slide_type": "slide"
    }
   },
   "source": [
    "#### #1 Reproject to use a certain basemap"
   ]
  },
  {
   "cell_type": "code",
   "execution_count": null,
   "metadata": {
    "slideshow": {
     "slide_type": "slide"
    }
   },
   "outputs": [],
   "source": [
    "# Use the Contextily library to use different basemap tiles on static maps\n",
    "# https://contextily.readthedocs.io/en/latest/index.html\n",
    "# to use these basemap tiles, reproject the data into Popular Visualisation Pseudo-Mercator, which is epsg 3857\n",
    "\n",
    "countries_wm = countries.to_crs(epsg=3857)\n",
    "cities_wm = cities.to_crs(epsg=3857)\n",
    "\n",
    "# since Antarctica is at the southern pole, this projection does not work well with it, so we remove it\n",
    "# this is not a requirement but it makes the map look nicer\n",
    "\n",
    "countries_wm = countries_wm[countries.name!='Antarctica']"
   ]
  },
  {
   "cell_type": "code",
   "execution_count": null,
   "metadata": {
    "slideshow": {
     "slide_type": "slide"
    }
   },
   "outputs": [],
   "source": [
    "# and create a static plot of the countries with the with the city dataset\n",
    "\n",
    "base = countries_wm.plot(figsize=(15,10), alpha = 0.75, facecolor='none', edgecolor = 'blue')\n",
    "cities_wm.plot(ax=base, color='brown', markersize=3)\n",
    "cx.add_basemap(base)"
   ]
  },
  {
   "cell_type": "markdown",
   "metadata": {
    "slideshow": {
     "slide_type": "slide"
    }
   },
   "source": [
    "#### #2 Reproject to perform measurements"
   ]
  },
  {
   "cell_type": "code",
   "execution_count": null,
   "metadata": {
    "slideshow": {
     "slide_type": "subslide"
    }
   },
   "outputs": [],
   "source": [
    "# you may get a warning if you attempt measurements using a projected crs (like latitude/longitude)\n",
    "# so, a projected coordinate system must be used to perform calculations\n",
    "# WGS 84 / World Equidistant Cylindrical is one option if mapping the world\n",
    "\n",
    "countries_wec = countries.to_crs(epsg=4087)\n",
    "cities_wec = cities.to_crs(epsg=4087)"
   ]
  },
  {
   "cell_type": "code",
   "execution_count": null,
   "metadata": {
    "slideshow": {
     "slide_type": "slide"
    }
   },
   "outputs": [],
   "source": [
    "# plot the countries and cities with the new projection to see the difference\n",
    "\n",
    "base = countries_wec.plot(figsize=(15,10), alpha = 0.75, facecolor='none', edgecolor = 'blue')\n",
    "cities_wec.plot(ax=base, color='brown', markersize=3)"
   ]
  },
  {
   "cell_type": "code",
   "execution_count": null,
   "metadata": {
    "slideshow": {
     "slide_type": "slide"
    }
   },
   "outputs": [],
   "source": [
    "# now we are working with meters rather than degrees\n",
    "\n",
    "countries_wec.crs"
   ]
  },
  {
   "cell_type": "code",
   "execution_count": null,
   "metadata": {
    "slideshow": {
     "slide_type": "slide"
    }
   },
   "outputs": [],
   "source": [
    "# get the area calculations for each area, they will be in metres as shown above\n",
    "\n",
    "countries_wec.area"
   ]
  },
  {
   "cell_type": "markdown",
   "metadata": {
    "slideshow": {
     "slide_type": "slide"
    }
   },
   "source": [
    "#### #3 Reproject to better view a certain area"
   ]
  },
  {
   "cell_type": "code",
   "execution_count": null,
   "metadata": {
    "slideshow": {
     "slide_type": "subslide"
    }
   },
   "outputs": [],
   "source": [
    "# if mapping a smaller area, it may be better to choose a projection optimized for that area\n",
    "# to look at Antarctica specifically, separate it out into its own shape\n",
    "\n",
    "antarctica = countries[countries.name=='Antarctica']"
   ]
  },
  {
   "cell_type": "code",
   "execution_count": null,
   "metadata": {
    "slideshow": {
     "slide_type": "subslide"
    }
   },
   "outputs": [],
   "source": [
    "# reproject it to a crs that works well for Antarctica\n",
    "# WGS 84 / Antarctic Polar Stereographic / EPSG 3031\n",
    "\n",
    "antarctica = antarctica.to_crs(epsg=3031)"
   ]
  },
  {
   "cell_type": "code",
   "execution_count": null,
   "metadata": {
    "slideshow": {
     "slide_type": "slide"
    }
   },
   "outputs": [],
   "source": [
    "# this is a much more accurate depiction of antarctica\n",
    "antarctica.plot(figsize=(15,10))"
   ]
  },
  {
   "cell_type": "markdown",
   "metadata": {
    "slideshow": {
     "slide_type": "slide"
    }
   },
   "source": [
    "#### Projections could lead to unexpected results"
   ]
  },
  {
   "cell_type": "code",
   "execution_count": null,
   "metadata": {
    "slideshow": {
     "slide_type": "slide"
    }
   },
   "outputs": [],
   "source": [
    "# note that if the countries and cities are set to this projection\n",
    "\n",
    "countries_polar = countries.to_crs(epsg=3031)\n",
    "cities_polar = cities.to_crs(countries_polar.crs)"
   ]
  },
  {
   "cell_type": "code",
   "execution_count": null,
   "metadata": {
    "slideshow": {
     "slide_type": "slide"
    }
   },
   "outputs": [],
   "source": [
    "# it will look like this, so be intentional with the choice of projection\n",
    "\n",
    "base = countries_polar.plot(figsize=(15,10))\n",
    "cities_polar.plot(ax=base, color='purple', markersize=10)"
   ]
  }
 ],
 "metadata": {
  "kernelspec": {
   "display_name": "Python 3 (ipykernel)",
   "language": "python",
   "name": "python3"
  },
  "language_info": {
   "codemirror_mode": {
    "name": "ipython",
    "version": 3
   },
   "file_extension": ".py",
   "mimetype": "text/x-python",
   "name": "python",
   "nbconvert_exporter": "python",
   "pygments_lexer": "ipython3",
   "version": "3.11.6"
  }
 },
 "nbformat": 4,
 "nbformat_minor": 4
}
