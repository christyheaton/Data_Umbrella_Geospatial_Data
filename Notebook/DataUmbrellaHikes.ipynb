{
 "cells": [
  {
   "cell_type": "markdown",
   "id": "1cc5b14a",
   "metadata": {},
   "source": [
    "# Spatial Analysis"
   ]
  },
  {
   "cell_type": "markdown",
   "id": "8ca7a8f1",
   "metadata": {},
   "source": [
    "### Let's find a hike that meets these criteria:\n",
    "\n",
    "* In or around Washington State, USA\n",
    "* 3-20 miles long\n",
    "* Outside city limits\n",
    "* Trailhead is within 1 mile of a transit stop"
   ]
  },
  {
   "cell_type": "code",
   "execution_count": null,
   "id": "77607177",
   "metadata": {},
   "outputs": [],
   "source": [
    "# a few import statements\n",
    "import pandas as pd\n",
    "import geopandas as gpd\n",
    "import folium"
   ]
  },
  {
   "cell_type": "markdown",
   "id": "7dc8b338",
   "metadata": {},
   "source": [
    "### Gather and prepare Washington State hike data"
   ]
  },
  {
   "cell_type": "code",
   "execution_count": null,
   "id": "e0e825de",
   "metadata": {},
   "outputs": [],
   "source": [
    "# load in data that was scraped from the Washington Trails Association (WTA) website\n",
    "# https://github.com/yoshiohasegawa/wta-scraper\n",
    "\n",
    "hikes_df = pd.read_csv('../Data/2021-04-25_wta_hike_data.csv') "
   ]
  },
  {
   "cell_type": "code",
   "execution_count": null,
   "id": "9eebcf46",
   "metadata": {},
   "outputs": [],
   "source": [
    "# let's look at the table, we need to use LATITUDE and LONGITUDE to create a geodataframe, but can't use those NaNs\n",
    "\n",
    "hikes_df.head(3)"
   ]
  },
  {
   "cell_type": "code",
   "execution_count": null,
   "id": "6577aa05",
   "metadata": {},
   "outputs": [],
   "source": [
    "# remove rows without LATITUDE and LONGITUDE\n",
    "\n",
    "hikes_df = hikes_df.dropna(subset=['LATITUDE', 'LONGITUDE'])"
   ]
  },
  {
   "cell_type": "code",
   "execution_count": null,
   "id": "700c4faf",
   "metadata": {},
   "outputs": [],
   "source": [
    "# turn the table into a GeoDataFrame\n",
    "\n",
    "hikes_gdf = gpd.GeoDataFrame(hikes_df, geometry=gpd.points_from_xy(hikes_df.LONGITUDE, hikes_df.LATITUDE))"
   ]
  },
  {
   "cell_type": "code",
   "execution_count": null,
   "id": "b9fcdc42",
   "metadata": {},
   "outputs": [],
   "source": [
    "# since we obtained this data from a tabular format, we must set the crs manually\n",
    "# to WGS 84 Latitude/Longitude, i.e. epsg 4326\n",
    "\n",
    "hikes_gdf = hikes_gdf.set_crs('epsg:4326')"
   ]
  },
  {
   "cell_type": "code",
   "execution_count": null,
   "id": "e708e508",
   "metadata": {},
   "outputs": [],
   "source": [
    "# invoke the explore method on the GeoDataFrame\n",
    "# note that it zooms to the full extent of the data\n",
    "\n",
    "hikes_gdf.explore(tiles='CartoDB positron')"
   ]
  },
  {
   "cell_type": "code",
   "execution_count": null,
   "id": "50f3c8b9",
   "metadata": {},
   "outputs": [],
   "source": [
    "# these hikes/trailheads should all be in or near the state of Washington,\n",
    "# so there are two that are definitely in the wrong location, we could remove or ignore them, but let's try to fix them\n",
    "\n",
    "# let's look at the stats of the LATITUDE and LONGITUDE columns\n",
    "# using this info it seems like LATITUDE values should be around 47 and LONGITUDE values should be around -121\n",
    "\n",
    "hikes_df[['LATITUDE', 'LONGITUDE']].mean()"
   ]
  },
  {
   "cell_type": "code",
   "execution_count": null,
   "id": "081acaa6",
   "metadata": {},
   "outputs": [],
   "source": [
    "# hovering over these locations in the interactive map we can find the titles of the problem locations\n",
    "# this way we can find out their index value\n",
    "\n",
    "hikes_df[hikes_df['TITLE']=='Stehekin to Rainy Pass']"
   ]
  },
  {
   "cell_type": "code",
   "execution_count": null,
   "id": "b6b985f2",
   "metadata": {},
   "outputs": [],
   "source": [
    "# from the results above, we can see that the LATITUDE and LONGITUDE\n",
    "# data has been swapped, and LONGITUDE needs to be negative\n",
    "# fix this data using the index\n",
    "\n",
    "hikes_df.at[937,'LATITUDE'] = 48.3093\n",
    "hikes_df.at[937,'LONGITUDE'] = -120.6565"
   ]
  },
  {
   "cell_type": "code",
   "execution_count": null,
   "id": "82dd9e21",
   "metadata": {},
   "outputs": [],
   "source": [
    "# in this case, the issue is that LONGITUDE needs to be negative\n",
    "\n",
    "hikes_df[hikes_df['TITLE']=='Brooks Memorial State Park']"
   ]
  },
  {
   "cell_type": "code",
   "execution_count": null,
   "id": "3ea66cb1",
   "metadata": {},
   "outputs": [],
   "source": [
    "# fix the data using the index\n",
    "\n",
    "hikes_df.at[2412,'LONGITUDE'] = -120.4"
   ]
  },
  {
   "cell_type": "code",
   "execution_count": null,
   "id": "9e59b5df",
   "metadata": {},
   "outputs": [],
   "source": [
    "# recreate the GeoDataFrame using the cleaned up DataFrame\n",
    "\n",
    "hikes_gdf = gpd.GeoDataFrame(hikes_df, geometry=gpd.points_from_xy(hikes_df.LONGITUDE, hikes_df.LATITUDE))\n",
    "hikes_gdf = hikes_gdf.set_crs('epsg:4326')"
   ]
  },
  {
   "cell_type": "code",
   "execution_count": null,
   "id": "bf89b949",
   "metadata": {},
   "outputs": [],
   "source": [
    "# this data looks better\n",
    "\n",
    "hikes_gdf.explore(tiles='CartoDB positron')"
   ]
  },
  {
   "cell_type": "markdown",
   "id": "3ebc19e3",
   "metadata": {},
   "source": [
    "### Find trails that are 3-20 miles long"
   ]
  },
  {
   "cell_type": "code",
   "execution_count": null,
   "id": "9b75ddb3",
   "metadata": {},
   "outputs": [],
   "source": [
    "# customize the hikes by coloring them according to their distance\n",
    "\n",
    "print('Minimum distance:', hikes_gdf['DISTANCE'].min())\n",
    "print('Maximum distance:', hikes_gdf['DISTANCE'].max())"
   ]
  },
  {
   "cell_type": "code",
   "execution_count": null,
   "id": "d50ed2cd",
   "metadata": {},
   "outputs": [],
   "source": [
    "%%capture\n",
    "# filter out hikes that meet distance criteria\n",
    "\n",
    "hikes_dist = hikes_gdf[(hikes_gdf['DISTANCE'] >= 3) & (hikes_gdf['DISTANCE'] <= 20) & (hikes_gdf['DIST_TYPE'] == 'roundtrip')]\n",
    "\n",
    "# create a DIFFICULTY column depending on if the hikes are Short, Medium, or Long to use as the coloring and legend\n",
    "  # Short hikes are less than or equal to 5 miles\n",
    "  # Medium hikes are greater than 5 and less than or equal to 10 miles\n",
    "  # Long hikes are greater than 10 (and less than or equal to 20 miles)\n",
    "\n",
    "hikes_dist.loc[hikes_dist['DISTANCE'] <= 5, 'DIFFICULTY'] = 'Short'\n",
    "hikes_dist.loc[(hikes_dist['DISTANCE'] > 5) & (hikes_dist['DISTANCE'] <=10), 'DIFFICULTY'] = 'Medium'\n",
    "hikes_dist.loc[hikes_dist['DISTANCE'] > 10, 'DIFFICULTY'] = 'Long'"
   ]
  },
  {
   "cell_type": "code",
   "execution_count": null,
   "id": "82d7b89f",
   "metadata": {},
   "outputs": [],
   "source": [
    "# explore the subset of hikes\n",
    "\n",
    "hikes_dist.explore(\n",
    "     tiles='CartoDB positron',\n",
    "     cmap='tab20b',\n",
    "     column='DIFFICULTY',\n",
    "     marker_kwds=dict(radius=3, fill=True),\n",
    "     tooltip='TITLE',\n",
    "     tooltip_kwds=dict(labels=False), \n",
    "     name='Hikes')"
   ]
  },
  {
   "cell_type": "markdown",
   "id": "70aff69d",
   "metadata": {},
   "source": [
    "### Find trailheads that are outside city limits"
   ]
  },
  {
   "cell_type": "code",
   "execution_count": null,
   "id": "92f8095c",
   "metadata": {},
   "outputs": [],
   "source": [
    "# source: https://geo.wa.gov/datasets/WSDOT::wsdot-city-limits/explore\n",
    "\n",
    "cityfilename = r'../Data/WSDOT_-_City_Limits.geojson'\n",
    "cityfile = open(cityfilename)\n",
    "cities_gdf = gpd.read_file(cityfile)\n",
    "cities_gdf.crs"
   ]
  },
  {
   "cell_type": "code",
   "execution_count": null,
   "id": "ab14ffd9",
   "metadata": {},
   "outputs": [],
   "source": [
    "# view the first few rows\n",
    "\n",
    "cities_gdf.head(3)"
   ]
  },
  {
   "cell_type": "code",
   "execution_count": null,
   "id": "bb3b8f03-a6ff-46f9-ade3-625d64b37a6e",
   "metadata": {},
   "outputs": [],
   "source": [
    "cities_gdf['LastUpdate'] = cities_gdf['LastUpdate'].dt.strftime('%Y-%m-%d')\n"
   ]
  },
  {
   "cell_type": "code",
   "execution_count": null,
   "id": "080d0d6a",
   "metadata": {},
   "outputs": [],
   "source": [
    "# explore the data\n",
    "\n",
    "cities_gdf.explore(tiles='CartoDB positron')"
   ]
  },
  {
   "cell_type": "code",
   "execution_count": null,
   "id": "cfff5f8b",
   "metadata": {},
   "outputs": [],
   "source": [
    "# use the GeoPandas overlay method, passing in the cities, and set the 'how' parameter to 'difference'\n",
    "# more info: https://geopandas.org/en/stable/docs/user_guide/set_operations.html\n",
    "\n",
    "hikes_not_in_cities = hikes_dist.overlay(cities_gdf, how='difference')"
   ]
  },
  {
   "cell_type": "code",
   "execution_count": null,
   "id": "fb4bd652",
   "metadata": {},
   "outputs": [],
   "source": [
    "# view the results on a map to verify that it worked\n",
    "\n",
    "m = cities_gdf.explore(\n",
    "     tiles='CartoDB positron',\n",
    "     name='Cities')\n",
    "\n",
    "hikes_not_in_cities.explore(\n",
    "     m=m,\n",
    "     column='DIFFICULTY',\n",
    "     cmap='tab20b',\n",
    "     marker_kwds=dict(radius=3, fill=True),\n",
    "     tooltip='TITLE',\n",
    "     tooltip_kwds=dict(labels=False),\n",
    "     name=\"Hikes\")\n",
    "\n",
    "folium.LayerControl().add_to(m)  # use folium to add layer control\n",
    "\n",
    "m"
   ]
  },
  {
   "cell_type": "markdown",
   "id": "7bea88ef",
   "metadata": {},
   "source": [
    "### Find trailheads that are within 1 mile of a transit stop"
   ]
  },
  {
   "cell_type": "code",
   "execution_count": null,
   "id": "50364ba8",
   "metadata": {},
   "outputs": [],
   "source": [
    "# source: https://geo.wa.gov/datasets/5926fb7a8cc64c068c6bfa92e72eef56/explore\n",
    "# transit lines are important too, but we can only access a trailhead if there is an actual stop nearby\n",
    "\n",
    "# load in transit stops, turn into a geodatagrame\n",
    "tstopsfilename = r'../Data/WSDOT_-_Transit_Stops.geojson'\n",
    "tstopsfile = open(tstopsfilename)\n",
    "tstops_gdf = gpd.read_file(tstopsfile)\n",
    "\n",
    "# remove transit stops within cities since we don't need them and this will reduce processing time\n",
    "tstops_gdf = tstops_gdf.overlay(cities_gdf, how='difference')"
   ]
  },
  {
   "cell_type": "code",
   "execution_count": null,
   "id": "7d353989",
   "metadata": {},
   "outputs": [],
   "source": [
    "tstops_gdf.head(3)"
   ]
  },
  {
   "cell_type": "code",
   "execution_count": null,
   "id": "4c0a59d1-f3b1-4dc6-8ce5-595e1a3b7b3c",
   "metadata": {},
   "outputs": [],
   "source": [
    "tstops_gdf['LastUpdated'] = tstops_gdf['LastUpdated'].dt.strftime('%Y-%m-%d')"
   ]
  },
  {
   "cell_type": "code",
   "execution_count": null,
   "id": "ddd3b19b",
   "metadata": {},
   "outputs": [],
   "source": [
    "# explore the data\n",
    "\n",
    "tstops_gdf.explore(tiles='CartoDB positron')"
   ]
  },
  {
   "cell_type": "code",
   "execution_count": null,
   "id": "a20c1cc0",
   "metadata": {},
   "outputs": [],
   "source": [
    "# for this step, define an area of a 1-mile radius around each transit stop, in order to see what trailheads fall inside\n",
    "# however, measurements do not work well using a crs that uses degress as the units\n",
    "\n",
    "tstops_gdf.crs"
   ]
  },
  {
   "cell_type": "code",
   "execution_count": null,
   "id": "693abeb6",
   "metadata": {},
   "outputs": [],
   "source": [
    "# create copies in a projected crs, choosing NAD83 / UTM zone 10N\n",
    "\n",
    "hikes_UTM = hikes_not_in_cities.to_crs(26910)\n",
    "tstops_UTM = tstops_gdf.to_crs(26910)"
   ]
  },
  {
   "cell_type": "code",
   "execution_count": null,
   "id": "d6716d85",
   "metadata": {},
   "outputs": [],
   "source": [
    "# notice the units are now meters\n",
    "\n",
    "hikes_UTM.crs"
   ]
  },
  {
   "cell_type": "code",
   "execution_count": null,
   "id": "621cdcc4",
   "metadata": {},
   "outputs": [],
   "source": [
    "# call the GeoPandas buffer method on the reprojected transit stops data,\n",
    "# passing in (1609.34 meters = 1 mile) and a resolution\n",
    "tstops_UTM_1mi_series = tstops_UTM.buffer(1609.34, resolution=6)\n",
    "\n",
    "# make a copy of the transit stops GeoDataframe\n",
    "tstops_UTM_buf = tstops_UTM\n",
    "\n",
    "# replace the geometry with the 1-mile buffers\n",
    "tstops_UTM_buf['geometry'] = tstops_UTM_1mi_series"
   ]
  },
  {
   "cell_type": "code",
   "execution_count": null,
   "id": "77af969c-e40a-4a90-bedb-1803779de99a",
   "metadata": {},
   "outputs": [],
   "source": [
    "tstops_UTM_buf.head()"
   ]
  },
  {
   "cell_type": "code",
   "execution_count": null,
   "id": "1d96cdf0",
   "metadata": {},
   "outputs": [],
   "source": [
    "# view the results\n",
    "\n",
    "tstops_UTM_buf.explore(tiles='CartoDB positron')"
   ]
  },
  {
   "cell_type": "code",
   "execution_count": null,
   "id": "24220a95",
   "metadata": {},
   "outputs": [],
   "source": [
    "# call the GeoPandas .sjoin method to find the intersection of the trailheads and 1-mile radius areas,\n",
    "# keeping the attributes of both\n",
    "hike_results = hikes_UTM.sjoin(tstops_UTM_buf, how='inner', predicate='intersects')"
   ]
  },
  {
   "cell_type": "code",
   "execution_count": null,
   "id": "23e9b81a",
   "metadata": {},
   "outputs": [],
   "source": [
    "# rename columns to include units for the final map tooltips\n",
    "hike_results = hike_results.rename(columns ={'DISTANCE':'DISTANCE (MI)','GAIN':'GAIN (FT)'})"
   ]
  },
  {
   "cell_type": "code",
   "execution_count": null,
   "id": "70882f42",
   "metadata": {},
   "outputs": [],
   "source": [
    "# make our final map, showing the hikes we can access, and relevant information in the tooltip\n",
    "\n",
    "m = hike_results.explore(\n",
    "    tiles='CartoDB positron', # use a terrain basemap\n",
    "    cmap='tab20b',\n",
    "    column='DIFFICULTY',\n",
    "    scheme='naturalbreaks',\n",
    "    marker_kwds=dict(radius=6, fill=True),\n",
    "    tooltip=['TITLE','DISTANCE (MI)','GAIN (FT)','Agency','StopName']) \n",
    "\n",
    "m"
   ]
  },
  {
   "cell_type": "code",
   "execution_count": null,
   "id": "793673f7",
   "metadata": {},
   "outputs": [],
   "source": [
    "# save the results as an html file that anyone with a web browser can open\n",
    "\n",
    "m.save('../Output/Hike_Map.html')"
   ]
  }
 ],
 "metadata": {
  "kernelspec": {
   "display_name": "Python 3 (ipykernel)",
   "language": "python",
   "name": "python3"
  },
  "language_info": {
   "codemirror_mode": {
    "name": "ipython",
    "version": 3
   },
   "file_extension": ".py",
   "mimetype": "text/x-python",
   "name": "python",
   "nbconvert_exporter": "python",
   "pygments_lexer": "ipython3",
   "version": "3.11.6"
  }
 },
 "nbformat": 4,
 "nbformat_minor": 5
}
